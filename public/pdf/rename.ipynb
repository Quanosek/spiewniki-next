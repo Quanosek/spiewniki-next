{
 "cells": [
  {
   "cell_type": "code",
   "execution_count": 1,
   "metadata": {},
   "outputs": [],
   "source": [
    "import os\n",
    "import re"
   ]
  },
  {
   "cell_type": "code",
   "execution_count": 2,
   "metadata": {},
   "outputs": [],
   "source": [
    "# Specify the directory path you want to search in\n",
    "directory_path = './pdfs/'\n",
    "\n",
    "# Get a list of all files and directories in the specified directory\n",
    "all_items = os.listdir(directory_path)\n",
    "\n",
    "# Filter out only the files from the list\n",
    "files = [item for item in all_items if os.path.isfile(os.path.join(directory_path, item))]"
   ]
  },
  {
   "cell_type": "code",
   "execution_count": 3,
   "metadata": {},
   "outputs": [],
   "source": [
    "#sortFunc declaration\n",
    "p = re.compile(r'(\\d+(\\.\\d)?)')\n",
    "def sortFunc(e):\n",
    "    return float(p.findall(e)[0][0])"
   ]
  },
  {
   "cell_type": "code",
   "execution_count": 4,
   "metadata": {},
   "outputs": [],
   "source": [
    "#sort files list\n",
    "files.sort(key=sortFunc)"
   ]
  },
  {
   "cell_type": "code",
   "execution_count": 5,
   "metadata": {},
   "outputs": [],
   "source": [
    "for count, file in enumerate(files):\n",
    "    oldName = directory_path+file\n",
    "    newName=directory_path+str(count+1)+\".pdf\"\n",
    "    #print(oldName, newName)\n",
    "    os.rename(oldName, newName)"
   ]
  }
 ],
 "metadata": {
  "kernelspec": {
   "display_name": "Python 3",
   "language": "python",
   "name": "python3"
  },
  "language_info": {
   "codemirror_mode": {
    "name": "ipython",
    "version": 3
   },
   "file_extension": ".py",
   "mimetype": "text/x-python",
   "name": "python",
   "nbconvert_exporter": "python",
   "pygments_lexer": "ipython3",
   "version": "3.11.5"
  }
 },
 "nbformat": 4,
 "nbformat_minor": 2
}
